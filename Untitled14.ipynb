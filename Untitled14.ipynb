{
 "cells": [
  {
   "cell_type": "code",
   "execution_count": 2,
   "metadata": {},
   "outputs": [
    {
     "ename": "NameError",
     "evalue": "name 'Image' is not defined",
     "output_type": "error",
     "traceback": [
      "\u001b[1;31m---------------------------------------------------------------------------\u001b[0m",
      "\u001b[1;31mNameError\u001b[0m                                 Traceback (most recent call last)",
      "\u001b[1;32m<ipython-input-2-6addb0b5d021>\u001b[0m in \u001b[0;36m<module>\u001b[1;34m\u001b[0m\n\u001b[0;32m      5\u001b[0m \u001b[0mimg\u001b[0m \u001b[1;33m=\u001b[0m\u001b[0mskimage\u001b[0m\u001b[1;33m.\u001b[0m\u001b[0mtransform\u001b[0m\u001b[1;33m.\u001b[0m\u001b[0mrotate\u001b[0m\u001b[1;33m(\u001b[0m\u001b[0mimg\u001b[0m\u001b[1;33m,\u001b[0m \u001b[1;33m-\u001b[0m\u001b[1;36m20\u001b[0m\u001b[1;33m,\u001b[0m \u001b[0mmode\u001b[0m\u001b[1;33m=\u001b[0m\u001b[1;34m'edge'\u001b[0m\u001b[1;33m)\u001b[0m\u001b[1;33m\u001b[0m\u001b[1;33m\u001b[0m\u001b[0m\n\u001b[0;32m      6\u001b[0m \u001b[0mimg\u001b[0m\u001b[1;33m=\u001b[0m\u001b[0mimg\u001b[0m\u001b[1;33m*\u001b[0m\u001b[1;36m255\u001b[0m\u001b[1;33m\u001b[0m\u001b[1;33m\u001b[0m\u001b[0m\n\u001b[1;32m----> 7\u001b[1;33m \u001b[0mimg\u001b[0m \u001b[1;33m=\u001b[0m \u001b[0mImage\u001b[0m\u001b[1;33m.\u001b[0m\u001b[0mfromarray\u001b[0m\u001b[1;33m(\u001b[0m\u001b[0mimg\u001b[0m\u001b[1;33m)\u001b[0m\u001b[1;33m\u001b[0m\u001b[1;33m\u001b[0m\u001b[0m\n\u001b[0m\u001b[0;32m      8\u001b[0m \u001b[1;32mif\u001b[0m \u001b[0mimg\u001b[0m\u001b[1;33m.\u001b[0m\u001b[0mmode\u001b[0m \u001b[1;33m!=\u001b[0m \u001b[1;34m'RGB'\u001b[0m\u001b[1;33m:\u001b[0m\u001b[1;33m\u001b[0m\u001b[1;33m\u001b[0m\u001b[0m\n\u001b[0;32m      9\u001b[0m        \u001b[0mimg\u001b[0m \u001b[1;33m=\u001b[0m \u001b[0mimg\u001b[0m\u001b[1;33m.\u001b[0m\u001b[0mconvert\u001b[0m\u001b[1;33m(\u001b[0m\u001b[1;34m'RGB'\u001b[0m\u001b[1;33m)\u001b[0m\u001b[1;33m\u001b[0m\u001b[1;33m\u001b[0m\u001b[0m\n",
      "\u001b[1;31mNameError\u001b[0m: name 'Image' is not defined"
     ]
    }
   ],
   "source": [
    "import numpy as np\n",
    "import skimage.transform\n",
    "import Image\n",
    "img = np.zeros([2088,1773], dtype=np.uint8)\n",
    "img[386:575, 816:1000] = 255\n",
    "img =skimage.transform.rotate(img, -20, mode='edge')\n",
    "img=img*255\n",
    "img = Image.fromarray(img)\n",
    "if img.mode != 'RGB':\n",
    "       img = img.convert('RGB')\n",
    "img.save(\"rotated_bb.jpg\")"
   ]
  },
  {
   "cell_type": "code",
   "execution_count": 3,
   "metadata": {},
   "outputs": [
    {
     "name": "stdout",
     "output_type": "stream",
     "text": [
      "Collecting Image\n",
      "  Downloading image-1.5.32.tar.gz (15 kB)\n",
      "Requirement already satisfied: pillow in c:\\users\\l3\\anaconda3\\lib\\site-packages (from Image) (7.2.0)\n",
      "Collecting django\n",
      "  Downloading Django-3.1.1-py3-none-any.whl (7.8 MB)\n",
      "Note: you may need to restart the kernel to use updated packages.\n",
      "Requirement already satisfied: six in c:\\users\\l3\\anaconda3\\lib\\site-packages (from Image) (1.15.0)\n",
      "Requirement already satisfied: pytz in c:\\users\\l3\\anaconda3\\lib\\site-packages (from django->Image) (2020.1)\n",
      "Collecting sqlparse>=0.2.2\n",
      "  Downloading sqlparse-0.3.1-py2.py3-none-any.whl (40 kB)\n",
      "Collecting asgiref~=3.2.10\n",
      "  Downloading asgiref-3.2.10-py3-none-any.whl (19 kB)\n",
      "Building wheels for collected packages: Image\n",
      "  Building wheel for Image (setup.py): started\n",
      "  Building wheel for Image (setup.py): finished with status 'done'\n",
      "  Created wheel for Image: filename=image-1.5.32-py2.py3-none-any.whl size=19478 sha256=8c7eca226a2fa4b67e539d0d88bdf6d9e9f39e465b4532f19578127588b9c99b\n",
      "  Stored in directory: c:\\users\\l3\\appdata\\local\\pip\\cache\\wheels\\84\\f0\\32\\5e72698691ba5f9d9e27f01055b43d0c1588b9e4de19612048\n",
      "Successfully built Image\n",
      "Installing collected packages: sqlparse, asgiref, django, Image\n",
      "Successfully installed Image-1.5.32 asgiref-3.2.10 django-3.1.1 sqlparse-0.3.1\n"
     ]
    }
   ],
   "source": [
    "pip install Image"
   ]
  },
  {
   "cell_type": "code",
   "execution_count": null,
   "metadata": {},
   "outputs": [],
   "source": []
  }
 ],
 "metadata": {
  "kernelspec": {
   "display_name": "Python 3",
   "language": "python",
   "name": "python3"
  },
  "language_info": {
   "codemirror_mode": {
    "name": "ipython",
    "version": 3
   },
   "file_extension": ".py",
   "mimetype": "text/x-python",
   "name": "python",
   "nbconvert_exporter": "python",
   "pygments_lexer": "ipython3",
   "version": "3.8.3"
  }
 },
 "nbformat": 4,
 "nbformat_minor": 4
}
